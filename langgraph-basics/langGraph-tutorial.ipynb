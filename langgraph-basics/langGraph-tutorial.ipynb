{
 "cells": [
  {
   "cell_type": "markdown",
   "id": "53de297d",
   "metadata": {},
   "source": [
    "## Learning LangGraph "
   ]
  },
  {
   "cell_type": "code",
   "execution_count": 17,
   "id": "cd4a8552",
   "metadata": {},
   "outputs": [],
   "source": [
    "import langchain\n",
    "from langchain_groq import ChatGroq\n",
    "from langchain_core.prompts import ChatPromptTemplate, PromptTemplate\n",
    "from langchain_google_genai import ChatGoogleGenerativeAI\n",
    "from langchain_huggingface import ChatHuggingFace, HuggingFaceEndpoint\n",
    "from langchain_google_genai import GoogleGenerativeAIEmbeddings\n",
    "\n",
    "from langgraph.graph import StateGraph, START, END\n",
    "\n",
    "from dotenv import load_dotenv\n",
    "from pprint import pprint\n",
    "import random\n",
    "from loguru import logger\n",
    "from typing import TypedDict, Annotated\n",
    "from IPython.display import Image"
   ]
  },
  {
   "cell_type": "code",
   "execution_count": 4,
   "id": "d0b2491c",
   "metadata": {},
   "outputs": [],
   "source": [
    "gemini_flash_model = ChatGoogleGenerativeAI(\n",
    "    model=\"gemini-2.5-flash\",\n",
    "    temperature=0,\n",
    "    max_tokens=None,\n",
    "    timeout=None,\n",
    "    max_retries=2,\n",
    "    # other params...\n",
    ")"
   ]
  },
  {
   "cell_type": "code",
   "execution_count": 5,
   "id": "b5a4e5d3",
   "metadata": {},
   "outputs": [],
   "source": [
    "gpt_oss_20b_model = ChatGroq(\n",
    "    model=\"openai/gpt-oss-20b\",\n",
    "    temperature=0,\n",
    "    max_tokens=None,\n",
    "    reasoning_format=\"parsed\",\n",
    "    timeout=None,\n",
    "    max_retries=2,\n",
    ")"
   ]
  },
  {
   "cell_type": "code",
   "execution_count": 6,
   "id": "0900e93d",
   "metadata": {},
   "outputs": [
    {
     "data": {
      "text/plain": [
       "'The capital of India is **New Delhi**.'"
      ]
     },
     "execution_count": 6,
     "metadata": {},
     "output_type": "execute_result"
    }
   ],
   "source": [
    "gemini_flash_model.invoke(\"what is the capital of india\").content"
   ]
  },
  {
   "cell_type": "code",
   "execution_count": 7,
   "id": "3ac3a6e4",
   "metadata": {},
   "outputs": [
    {
     "data": {
      "text/plain": [
       "'The capital of India is **New\\u202fDelhi**.'"
      ]
     },
     "execution_count": 7,
     "metadata": {},
     "output_type": "execute_result"
    }
   ],
   "source": [
    "gpt_oss_20b_model.invoke(\"what is the capital of india\").content"
   ]
  },
  {
   "cell_type": "markdown",
   "id": "9a67bbf3",
   "metadata": {},
   "source": [
    "### First Sequential Workflow - non LLM based\n",
    "\n",
    "- BMI Calculator\n",
    "\n",
    "- Inputs: ht, weight\n",
    "\n",
    "- Output: BMI"
   ]
  },
  {
   "cell_type": "code",
   "execution_count": 21,
   "id": "9085a41b",
   "metadata": {},
   "outputs": [],
   "source": [
    "# define state\n",
    "\n",
    "class BMIState(TypedDict):\n",
    "    weight_kg: float\n",
    "    height_m: float\n",
    "    bmi: float\n",
    "    category: str"
   ]
  },
  {
   "cell_type": "code",
   "execution_count": 23,
   "id": "a524e183",
   "metadata": {},
   "outputs": [],
   "source": [
    "# define graph\n",
    "\n",
    "bmi_graph = StateGraph(BMIState)\n",
    "\n",
    "# define nodes - nodes are functions that take in a state and return a state\n",
    "\n",
    "def calculate_bmi(state: BMIState) -> BMIState:\n",
    "    bmi = state[\"weight_kg\"] / (state[\"height_m\"] ** 2)\n",
    "    state[\"bmi\"] = round(bmi, 2) # make a partial update to the state\n",
    "    return state\n",
    "\n",
    "def label_bmi(state: BMIState) -> BMIState:\n",
    "    if state[\"bmi\"] < 18.5:\n",
    "        state[\"category\"] = \"Underweight\"\n",
    "    elif 18.5 <= state[\"bmi\"] < 25:\n",
    "        state[\"category\"] = \"Normal weight\"\n",
    "    elif 25 <= state[\"bmi\"] < 30:\n",
    "        state[\"category\"] = \"Overweight\"\n",
    "    else:\n",
    "        state[\"category\"] = \"Obese\"\n",
    "    \n",
    "    return state\n",
    "\n",
    "bmi_graph.add_node(\"calculate_bmi\", calculate_bmi)\n",
    "bmi_graph.add_node(\"label_bmi\", label_bmi)\n",
    " \n",
    "# add edges\n",
    "bmi_graph.add_edge(START, \"calculate_bmi\") # START and END are special dummy nodes\n",
    "bmi_graph.add_edge(\"calculate_bmi\", \"label_bmi\")\n",
    "bmi_graph.add_edge(\"label_bmi\", END)\n",
    "\n",
    "# compile graph\n",
    "workflow = bmi_graph.compile()"
   ]
  },
  {
   "cell_type": "code",
   "execution_count": 25,
   "id": "0d234630",
   "metadata": {},
   "outputs": [
    {
     "name": "stdout",
     "output_type": "stream",
     "text": [
      "{'bmi': 32.33, 'category': 'Obese', 'height_m': 1.75, 'weight_kg': 99}\n"
     ]
    }
   ],
   "source": [
    "# invoke graph\n",
    "initial_state = {\"weight_kg\": 99, \"height_m\": 1.75}\n",
    "final_state = workflow.invoke(initial_state)\n",
    "pprint(final_state)"
   ]
  },
  {
   "cell_type": "markdown",
   "id": "2f9119bc",
   "metadata": {},
   "source": [
    "Note that the input of the graph is a state and the output of the graph is also a state"
   ]
  },
  {
   "cell_type": "code",
   "execution_count": 26,
   "id": "d7fe1c8a",
   "metadata": {},
   "outputs": [
    {
     "data": {
      "image/png": "[encoded data removed]",
      "text/plain": [
       "<IPython.core.display.Image object>"
      ]
     },
     "execution_count": 26,
     "metadata": {},
     "output_type": "execute_result"
    }
   ],
   "source": [
    "Image(workflow.get_graph().draw_mermaid_png())"
   ]
  },
  {
   "cell_type": "markdown",
   "id": "a9d58ef3",
   "metadata": {},
   "source": [
    "### First Sequential Workflow - LLM based\n",
    "\n",
    "- Simple QA workflow"
   ]
  },
  {
   "cell_type": "code",
   "execution_count": 27,
   "id": "c1cbe748",
   "metadata": {},
   "outputs": [],
   "source": [
    "class LLMState(TypedDict):\n",
    "    question: str\n",
    "    answer: str"
   ]
  },
  {
   "cell_type": "code",
   "execution_count": 28,
   "id": "5d9ab7c4",
   "metadata": {},
   "outputs": [],
   "source": [
    "# define graph\n",
    "\n",
    "qa_graph = StateGraph(LLMState)\n",
    "\n",
    "# define nodes - nodes are functions that take in a state and return a state\n",
    "def llm_qa(state: LLMState) -> LLMState:\n",
    "\n",
    "    question = state[\"question\"]\n",
    "    # build prompt \n",
    "    template = PromptTemplate(\n",
    "        template=\"\"\"\n",
    "        You are a helpful assistant.\n",
    "        Answer the following question: {question}\n",
    "        \"\"\",\n",
    "        input_variables=[\"question\"]\n",
    "    )\n",
    "\n",
    "    prompt = template.format(question=question)\n",
    "    answer = gpt_oss_20b_model.invoke(prompt).content\n",
    "    \n",
    "    state[\"answer\"] = answer\n",
    "    return state\n",
    "\n",
    "qa_graph.add_node(\"llm_qa\", llm_qa)\n",
    " \n",
    "# add edges\n",
    "qa_graph.add_edge(START, \"llm_qa\") # START and END are special dummy nodes\n",
    "qa_graph.add_edge(\"llm_qa\", END)\n",
    "\n",
    "# compile graph\n",
    "workflow = qa_graph.compile()"
   ]
  },
  {
   "cell_type": "code",
   "execution_count": 29,
   "id": "efccd0d7",
   "metadata": {},
   "outputs": [
    {
     "data": {
      "image/png": "[encoded data removed]",
      "text/plain": [
       "<IPython.core.display.Image object>"
      ]
     },
     "execution_count": 29,
     "metadata": {},
     "output_type": "execute_result"
    }
   ],
   "source": [
    "Image(workflow.get_graph().draw_mermaid_png())"
   ]
  },
  {
   "cell_type": "code",
   "execution_count": 30,
   "id": "ce076a67",
   "metadata": {},
   "outputs": [
    {
     "name": "stdout",
     "output_type": "stream",
     "text": [
      "{'answer': 'The capital of India is **New Delhi**.',\n",
      " 'question': 'What is the capital of India?'}\n"
     ]
    }
   ],
   "source": [
    "initial_state = {\"question\": \"What is the capital of India?\"}\n",
    "final_state = workflow.invoke(initial_state)\n",
    "pprint(final_state)"
   ]
  },
  {
   "cell_type": "markdown",
   "id": "2b706029",
   "metadata": {},
   "source": [
    "### Prompt Chaining Workflow"
   ]
  },
  {
   "cell_type": "code",
   "execution_count": null,
   "id": "451982eb",
   "metadata": {},
   "outputs": [],
   "source": [
    "\n"
   ]
  },
  {
   "cell_type": "code",
   "execution_count": 33,
   "id": "7065af27",
   "metadata": {},
   "outputs": [],
   "source": [
    "class BlogState(TypedDict):\n",
    "    title: str\n",
    "    outline: str\n",
    "    content: str\n",
    "\n",
    "def create_outline(state: BlogState) -> BlogState:\n",
    "    \n",
    "    title = state[\"title\"]\n",
    "    # build prompt \n",
    "    template = PromptTemplate(\n",
    "        template=\"\"\"\n",
    "        You are a helpful assistant.\n",
    "        Create an outline for the following blog post: {title}\n",
    "        \"\"\",\n",
    "        input_variables=[\"title\"]\n",
    "    )\n",
    "    prompt = template.format(title=title)\n",
    "    outline = gpt_oss_20b_model.invoke(prompt).content\n",
    "    state[\"outline\"] = outline\n",
    "    return state\n",
    "\n",
    "def create_blog(state: BlogState) -> BlogState:\n",
    "    \n",
    "    title = state[\"title\"]\n",
    "    outline = state[\"outline\"]\n",
    "    # build prompt \n",
    "    template = PromptTemplate(\n",
    "        template=\"\"\"\n",
    "        You are a helpful assistant.\n",
    "        Create a short blog post for the following title: {title} and using the following outline:\\n {outline}\n",
    "        \"\"\",\n",
    "        input_variables=[\"title\", \"outline\"]\n",
    "    )\n",
    "    prompt = template.format(title=title, outline=outline)\n",
    "    content = gpt_oss_20b_model.invoke(prompt).content\n",
    "    state[\"content\"] = content\n",
    "    return state\n",
    "\n",
    "# define graph\n",
    "blog_graph = StateGraph(BlogState)\n",
    "\n",
    "# define nodes - nodes are functions that take in a state and return a state\n",
    "blog_graph.add_node(\"create_outline\", create_outline)\n",
    "blog_graph.add_node(\"create_blog\", create_blog)\n",
    "\n",
    "# add edges\n",
    "blog_graph.add_edge(START, \"create_outline\")\n",
    "blog_graph.add_edge(\"create_outline\", \"create_blog\")\n",
    "blog_graph.add_edge(\"create_blog\", END)\n",
    "\n",
    "# compile graph\n",
    "workflow = blog_graph.compile()\n"
   ]
  },
  {
   "cell_type": "code",
   "execution_count": 34,
   "id": "b3649ea5",
   "metadata": {},
   "outputs": [
    {
     "data": {
      "image/png": "[encoded data removed]",
      "text/plain": [
       "<IPython.core.display.Image object>"
      ]
     },
     "execution_count": 34,
     "metadata": {},
     "output_type": "execute_result"
    }
   ],
   "source": [
    "Image(workflow.get_graph().draw_mermaid_png())"
   ]
  },
  {
   "cell_type": "code",
   "execution_count": 36,
   "id": "16bb2486",
   "metadata": {},
   "outputs": [],
   "source": [
    "initial_state = {\"title\": \"LangGraph Tutorial\"}\n",
    "final_state = workflow.invoke(initial_state)"
   ]
  },
  {
   "cell_type": "code",
   "execution_count": 40,
   "id": "bfb15fe7",
   "metadata": {},
   "outputs": [
    {
     "data": {
      "text/plain": [
       "dict_keys(['title', 'outline', 'content'])"
      ]
     },
     "execution_count": 40,
     "metadata": {},
     "output_type": "execute_result"
    }
   ],
   "source": [
    "final_state.keys()"
   ]
  },
  {
   "cell_type": "code",
   "execution_count": 39,
   "id": "a25912e8",
   "metadata": {},
   "outputs": [
    {
     "name": "stdout",
     "output_type": "stream",
     "text": [
      "# LangGraph Tutorial  \n",
      "*A quick‑start guide to building conversational AI workflows with LangGraph*\n",
      "\n",
      "---\n",
      "\n",
      "## 1. Introduction  \n",
      "\n",
      "### What is LangGraph?  \n",
      "LangGraph is a lightweight framework that lets you stitch together LLM calls, data‑transformations, and external APIs into a **graph‑based workflow**. Think of it as a visual, modular way to build chatbots, assistants, or any conversational system that needs to keep track of state, branch logic, and side‑effects.\n",
      "\n",
      "Why it matters  \n",
      "* **Modularity** – each node is a self‑contained unit.  \n",
      "* **Scalability** – graphs can grow from a single LLM call to dozens of nodes.  \n",
      "* **LLM agnostic** – plug in OpenAI, Anthropic, or any other provider with a single line.\n",
      "\n",
      "### Target audience  \n",
      "Developers, data scientists, and AI enthusiasts who want to prototype or deploy chatbots without wrestling with low‑level orchestration.\n",
      "\n",
      "### What you’ll learn  \n",
      "* Core concepts (nodes, edges, state, callbacks).  \n",
      "* How to install and set up a project.  \n",
      "* Buildi\n"
     ]
    }
   ],
   "source": [
    "print(final_state[\"content\"][:1000])"
   ]
  },
  {
   "cell_type": "code",
   "execution_count": null,
   "id": "5a1d8e23",
   "metadata": {},
   "outputs": [],
   "source": []
  }
 ],
 "metadata": {
  "kernelspec": {
   "display_name": ".venv",
   "language": "python",
   "name": "python3"
  },
  "language_info": {
   "codemirror_mode": {
    "name": "ipython",
    "version": 3
   },
   "file_extension": ".py",
   "mimetype": "text/x-python",
   "name": "python",
   "nbconvert_exporter": "python",
   "pygments_lexer": "ipython3",
   "version": "3.12.11"
  }
 },
 "nbformat": 4,
 "nbformat_minor": 5
}
