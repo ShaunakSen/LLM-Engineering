{
 "cells": [
  {
   "cell_type": "markdown",
   "id": "53de297d",
   "metadata": {},
   "source": [
    "## Learning LangGraph "
   ]
  },
  {
   "cell_type": "code",
   "execution_count": 59,
   "id": "cd4a8552",
   "metadata": {},
   "outputs": [],
   "source": [
    "import langchain\n",
    "from langchain_groq import ChatGroq\n",
    "from langchain_core.prompts import ChatPromptTemplate, PromptTemplate\n",
    "from langchain_google_genai import ChatGoogleGenerativeAI\n",
    "from langchain_huggingface import ChatHuggingFace, HuggingFaceEndpoint\n",
    "from langchain_google_genai import GoogleGenerativeAIEmbeddings\n",
    "\n",
    "from langgraph.graph import StateGraph, START, END\n",
    "\n",
    "from dotenv import load_dotenv\n",
    "from pprint import pprint\n",
    "import random\n",
    "from loguru import logger\n",
    "from typing import TypedDict, Annotated, List\n",
    "from IPython.display import Image"
   ]
  },
  {
   "cell_type": "code",
   "execution_count": 4,
   "id": "d0b2491c",
   "metadata": {},
   "outputs": [],
   "source": [
    "gemini_flash_model = ChatGoogleGenerativeAI(\n",
    "    model=\"gemini-2.5-flash\",\n",
    "    temperature=0,\n",
    "    max_tokens=None,\n",
    "    timeout=None,\n",
    "    max_retries=2,\n",
    "    # other params...\n",
    ")"
   ]
  },
  {
   "cell_type": "code",
   "execution_count": 5,
   "id": "b5a4e5d3",
   "metadata": {},
   "outputs": [],
   "source": [
    "gpt_oss_20b_model = ChatGroq(\n",
    "    model=\"openai/gpt-oss-20b\",\n",
    "    temperature=0,\n",
    "    max_tokens=None,\n",
    "    reasoning_format=\"parsed\",\n",
    "    timeout=None,\n",
    "    max_retries=2,\n",
    ")"
   ]
  },
  {
   "cell_type": "code",
   "execution_count": 6,
   "id": "0900e93d",
   "metadata": {},
   "outputs": [
    {
     "data": {
      "text/plain": [
       "'The capital of India is **New Delhi**.'"
      ]
     },
     "execution_count": 6,
     "metadata": {},
     "output_type": "execute_result"
    }
   ],
   "source": [
    "gemini_flash_model.invoke(\"what is the capital of india\").content"
   ]
  },
  {
   "cell_type": "code",
   "execution_count": 7,
   "id": "3ac3a6e4",
   "metadata": {},
   "outputs": [
    {
     "data": {
      "text/plain": [
       "'The capital of India is **New\\u202fDelhi**.'"
      ]
     },
     "execution_count": 7,
     "metadata": {},
     "output_type": "execute_result"
    }
   ],
   "source": [
    "gpt_oss_20b_model.invoke(\"what is the capital of india\").content"
   ]
  },
  {
   "cell_type": "markdown",
   "id": "9a67bbf3",
   "metadata": {},
   "source": [
    "### First Sequential Workflow - non LLM based\n",
    "\n",
    "- BMI Calculator\n",
    "\n",
    "- Inputs: ht, weight\n",
    "\n",
    "- Output: BMI"
   ]
  },
  {
   "cell_type": "code",
   "execution_count": 21,
   "id": "9085a41b",
   "metadata": {},
   "outputs": [],
   "source": [
    "# define state\n",
    "\n",
    "class BMIState(TypedDict):\n",
    "    weight_kg: float\n",
    "    height_m: float\n",
    "    bmi: float\n",
    "    category: str"
   ]
  },
  {
   "cell_type": "code",
   "execution_count": 23,
   "id": "a524e183",
   "metadata": {},
   "outputs": [],
   "source": [
    "# define graph\n",
    "\n",
    "bmi_graph = StateGraph(BMIState)\n",
    "\n",
    "# define nodes - nodes are functions that take in a state and return a state\n",
    "\n",
    "def calculate_bmi(state: BMIState) -> BMIState:\n",
    "    bmi = state[\"weight_kg\"] / (state[\"height_m\"] ** 2)\n",
    "    state[\"bmi\"] = round(bmi, 2) # make a partial update to the state\n",
    "    return state\n",
    "\n",
    "def label_bmi(state: BMIState) -> BMIState:\n",
    "    if state[\"bmi\"] < 18.5:\n",
    "        state[\"category\"] = \"Underweight\"\n",
    "    elif 18.5 <= state[\"bmi\"] < 25:\n",
    "        state[\"category\"] = \"Normal weight\"\n",
    "    elif 25 <= state[\"bmi\"] < 30:\n",
    "        state[\"category\"] = \"Overweight\"\n",
    "    else:\n",
    "        state[\"category\"] = \"Obese\"\n",
    "    \n",
    "    return state\n",
    "\n",
    "bmi_graph.add_node(\"calculate_bmi\", calculate_bmi)\n",
    "bmi_graph.add_node(\"label_bmi\", label_bmi)\n",
    " \n",
    "# add edges\n",
    "bmi_graph.add_edge(START, \"calculate_bmi\") # START and END are special dummy nodes\n",
    "bmi_graph.add_edge(\"calculate_bmi\", \"label_bmi\")\n",
    "bmi_graph.add_edge(\"label_bmi\", END)\n",
    "\n",
    "# compile graph\n",
    "workflow = bmi_graph.compile()"
   ]
  },
  {
   "cell_type": "code",
   "execution_count": 25,
   "id": "0d234630",
   "metadata": {},
   "outputs": [
    {
     "name": "stdout",
     "output_type": "stream",
     "text": [
      "{'bmi': 32.33, 'category': 'Obese', 'height_m': 1.75, 'weight_kg': 99}\n"
     ]
    }
   ],
   "source": [
    "# invoke graph\n",
    "initial_state = {\"weight_kg\": 99, \"height_m\": 1.75}\n",
    "final_state = workflow.invoke(initial_state)\n",
    "pprint(final_state)"
   ]
  },
  {
   "cell_type": "markdown",
   "id": "2f9119bc",
   "metadata": {},
   "source": [
    "Note that the input of the graph is a state and the output of the graph is also a state"
   ]
  },
  {
   "cell_type": "code",
   "execution_count": 26,
   "id": "d7fe1c8a",
   "metadata": {},
   "outputs": [
    {
     "data": {
      "image/png": "[encoded data removed]",
      "text/plain": [
       "<IPython.core.display.Image object>"
      ]
     },
     "execution_count": 26,
     "metadata": {},
     "output_type": "execute_result"
    }
   ],
   "source": [
    "Image(workflow.get_graph().draw_mermaid_png())"
   ]
  },
  {
   "cell_type": "markdown",
   "id": "a9d58ef3",
   "metadata": {},
   "source": [
    "### First Sequential Workflow - LLM based\n",
    "\n",
    "- Simple QA workflow"
   ]
  },
  {
   "cell_type": "code",
   "execution_count": 27,
   "id": "c1cbe748",
   "metadata": {},
   "outputs": [],
   "source": [
    "class LLMState(TypedDict):\n",
    "    question: str\n",
    "    answer: str"
   ]
  },
  {
   "cell_type": "code",
   "execution_count": 28,
   "id": "5d9ab7c4",
   "metadata": {},
   "outputs": [],
   "source": [
    "# define graph\n",
    "\n",
    "qa_graph = StateGraph(LLMState)\n",
    "\n",
    "# define nodes - nodes are functions that take in a state and return a state\n",
    "def llm_qa(state: LLMState) -> LLMState:\n",
    "\n",
    "    question = state[\"question\"]\n",
    "    # build prompt \n",
    "    template = PromptTemplate(\n",
    "        template=\"\"\"\n",
    "        You are a helpful assistant.\n",
    "        Answer the following question: {question}\n",
    "        \"\"\",\n",
    "        input_variables=[\"question\"]\n",
    "    )\n",
    "\n",
    "    prompt = template.format(question=question)\n",
    "    answer = gpt_oss_20b_model.invoke(prompt).content\n",
    "    \n",
    "    state[\"answer\"] = answer\n",
    "    return state\n",
    "\n",
    "qa_graph.add_node(\"llm_qa\", llm_qa)\n",
    " \n",
    "# add edges\n",
    "qa_graph.add_edge(START, \"llm_qa\") # START and END are special dummy nodes\n",
    "qa_graph.add_edge(\"llm_qa\", END)\n",
    "\n",
    "# compile graph\n",
    "workflow = qa_graph.compile()"
   ]
  },
  {
   "cell_type": "code",
   "execution_count": 29,
   "id": "efccd0d7",
   "metadata": {},
   "outputs": [
    {
     "data": {
      "image/png": "[encoded data removed]",
      "text/plain": [
       "<IPython.core.display.Image object>"
      ]
     },
     "execution_count": 29,
     "metadata": {},
     "output_type": "execute_result"
    }
   ],
   "source": [
    "Image(workflow.get_graph().draw_mermaid_png())"
   ]
  },
  {
   "cell_type": "code",
   "execution_count": 30,
   "id": "ce076a67",
   "metadata": {},
   "outputs": [
    {
     "name": "stdout",
     "output_type": "stream",
     "text": [
      "{'answer': 'The capital of India is **New Delhi**.',\n",
      " 'question': 'What is the capital of India?'}\n"
     ]
    }
   ],
   "source": [
    "initial_state = {\"question\": \"What is the capital of India?\"}\n",
    "final_state = workflow.invoke(initial_state)\n",
    "pprint(final_state)"
   ]
  },
  {
   "cell_type": "markdown",
   "id": "2b706029",
   "metadata": {},
   "source": [
    "### Prompt Chaining Workflow"
   ]
  },
  {
   "cell_type": "code",
   "execution_count": null,
   "id": "451982eb",
   "metadata": {},
   "outputs": [],
   "source": [
    "\n"
   ]
  },
  {
   "cell_type": "code",
   "execution_count": 33,
   "id": "7065af27",
   "metadata": {},
   "outputs": [],
   "source": [
    "class BlogState(TypedDict):\n",
    "    title: str\n",
    "    outline: str\n",
    "    content: str\n",
    "\n",
    "def create_outline(state: BlogState) -> BlogState:\n",
    "    \n",
    "    title = state[\"title\"]\n",
    "    # build prompt \n",
    "    template = PromptTemplate(\n",
    "        template=\"\"\"\n",
    "        You are a helpful assistant.\n",
    "        Create an outline for the following blog post: {title}\n",
    "        \"\"\",\n",
    "        input_variables=[\"title\"]\n",
    "    )\n",
    "    prompt = template.format(title=title)\n",
    "    outline = gpt_oss_20b_model.invoke(prompt).content\n",
    "    state[\"outline\"] = outline\n",
    "    return state\n",
    "\n",
    "def create_blog(state: BlogState) -> BlogState:\n",
    "    \n",
    "    title = state[\"title\"]\n",
    "    outline = state[\"outline\"]\n",
    "    # build prompt \n",
    "    template = PromptTemplate(\n",
    "        template=\"\"\"\n",
    "        You are a helpful assistant.\n",
    "        Create a short blog post for the following title: {title} and using the following outline:\\n {outline}\n",
    "        \"\"\",\n",
    "        input_variables=[\"title\", \"outline\"]\n",
    "    )\n",
    "    prompt = template.format(title=title, outline=outline)\n",
    "    content = gpt_oss_20b_model.invoke(prompt).content\n",
    "    state[\"content\"] = content\n",
    "    return state\n",
    "\n",
    "# define graph\n",
    "blog_graph = StateGraph(BlogState)\n",
    "\n",
    "# define nodes - nodes are functions that take in a state and return a state\n",
    "blog_graph.add_node(\"create_outline\", create_outline)\n",
    "blog_graph.add_node(\"create_blog\", create_blog)\n",
    "\n",
    "# add edges\n",
    "blog_graph.add_edge(START, \"create_outline\")\n",
    "blog_graph.add_edge(\"create_outline\", \"create_blog\")\n",
    "blog_graph.add_edge(\"create_blog\", END)\n",
    "\n",
    "# compile graph\n",
    "workflow = blog_graph.compile()\n"
   ]
  },
  {
   "cell_type": "code",
   "execution_count": 34,
   "id": "b3649ea5",
   "metadata": {},
   "outputs": [
    {
     "data": {
      "image/png": "[encoded data removed]",
      "text/plain": [
       "<IPython.core.display.Image object>"
      ]
     },
     "execution_count": 34,
     "metadata": {},
     "output_type": "execute_result"
    }
   ],
   "source": [
    "Image(workflow.get_graph().draw_mermaid_png())"
   ]
  },
  {
   "cell_type": "code",
   "execution_count": 36,
   "id": "16bb2486",
   "metadata": {},
   "outputs": [],
   "source": [
    "initial_state = {\"title\": \"LangGraph Tutorial\"}\n",
    "final_state = workflow.invoke(initial_state)"
   ]
  },
  {
   "cell_type": "code",
   "execution_count": 40,
   "id": "bfb15fe7",
   "metadata": {},
   "outputs": [
    {
     "data": {
      "text/plain": [
       "dict_keys(['title', 'outline', 'content'])"
      ]
     },
     "execution_count": 40,
     "metadata": {},
     "output_type": "execute_result"
    }
   ],
   "source": [
    "final_state.keys()"
   ]
  },
  {
   "cell_type": "code",
   "execution_count": 39,
   "id": "a25912e8",
   "metadata": {},
   "outputs": [
    {
     "name": "stdout",
     "output_type": "stream",
     "text": [
      "# LangGraph Tutorial  \n",
      "*A quick‑start guide to building conversational AI workflows with LangGraph*\n",
      "\n",
      "---\n",
      "\n",
      "## 1. Introduction  \n",
      "\n",
      "### What is LangGraph?  \n",
      "LangGraph is a lightweight framework that lets you stitch together LLM calls, data‑transformations, and external APIs into a **graph‑based workflow**. Think of it as a visual, modular way to build chatbots, assistants, or any conversational system that needs to keep track of state, branch logic, and side‑effects.\n",
      "\n",
      "Why it matters  \n",
      "* **Modularity** – each node is a self‑contained unit.  \n",
      "* **Scalability** – graphs can grow from a single LLM call to dozens of nodes.  \n",
      "* **LLM agnostic** – plug in OpenAI, Anthropic, or any other provider with a single line.\n",
      "\n",
      "### Target audience  \n",
      "Developers, data scientists, and AI enthusiasts who want to prototype or deploy chatbots without wrestling with low‑level orchestration.\n",
      "\n",
      "### What you’ll learn  \n",
      "* Core concepts (nodes, edges, state, callbacks).  \n",
      "* How to install and set up a project.  \n",
      "* Buildi\n"
     ]
    }
   ],
   "source": [
    "print(final_state[\"content\"][:1000])"
   ]
  },
  {
   "cell_type": "markdown",
   "id": "ce52d844",
   "metadata": {},
   "source": [
    "### Simple Parallel Workflow"
   ]
  },
  {
   "cell_type": "code",
   "execution_count": 43,
   "id": "5a1d8e23",
   "metadata": {},
   "outputs": [],
   "source": [
    "class BatsmanState(TypedDict):\n",
    "    runs: int\n",
    "    balls: int\n",
    "    fours: int\n",
    "    sixes: int\n",
    "    strike_rate: float\n",
    "    balls_per_boundary: float\n",
    "    boundary_percentage: float\n",
    "    summary: str\n",
    "    \n",
    "def calculate_strike_rate(state: BatsmanState) -> BatsmanState:\n",
    "    state[\"strike_rate\"] = state[\"runs\"] / state[\"balls\"] * 100\n",
    "    return state\n",
    "\n",
    "def calculate_balls_per_boundary(state: BatsmanState) -> BatsmanState:\n",
    "    state[\"balls_per_boundary\"] = state[\"balls\"] / (state[\"fours\"] + state[\"sixes\"])\n",
    "    return state\n",
    "\n",
    "def calculate_boundary_percentage(state: BatsmanState) -> BatsmanState:\n",
    "    state[\"boundary_percentage\"] = ((state['fours']*4 + state['sixes']*6) / state['runs']) * 100\n",
    "    return state\n",
    "\n",
    "def summarize_performance(state: BatsmanState) -> BatsmanState:\n",
    "    state[\"summary\"] = f\"The batsman has scored {state['runs']} runs in {state['balls']} balls \\nwith a strike rate of {state['strike_rate']} and a boundary percentage of {state['boundary_percentage']}\\n ball per boundary: {state['balls_per_boundary']}\"\n",
    "    return state\n"
   ]
  },
  {
   "cell_type": "code",
   "execution_count": null,
   "id": "78c6ef9b",
   "metadata": {},
   "outputs": [
    {
     "data": {
      "image/png": "[encoded data removed]",
      "text/plain": [
       "<IPython.core.display.Image object>"
      ]
     },
     "execution_count": 45,
     "metadata": {},
     "output_type": "execute_result"
    }
   ],
   "source": [
    "batsman_graph = StateGraph(BatsmanState)\n",
    "\n",
    "batsman_graph.add_node(\"calculate_strike_rate\", calculate_strike_rate)\n",
    "batsman_graph.add_node(\"calculate_balls_per_boundary\", calculate_balls_per_boundary)\n",
    "batsman_graph.add_node(\"calculate_boundary_percentage\", calculate_boundary_percentage)\n",
    "batsman_graph.add_node(\"summarize_performance\", summarize_performance)\n",
    "\n",
    "# add edges\n",
    "batsman_graph.add_edge(START, \"calculate_strike_rate\")\n",
    "batsman_graph.add_edge(START, \"calculate_balls_per_boundary\")\n",
    "batsman_graph.add_edge(START, \"calculate_boundary_percentage\")\n",
    "\n",
    "batsman_graph.add_edge(\"calculate_strike_rate\", \"summarize_performance\")\n",
    "batsman_graph.add_edge(\"calculate_balls_per_boundary\", \"summarize_performance\")\n",
    "batsman_graph.add_edge(\"calculate_boundary_percentage\", \"summarize_performance\")\n",
    "batsman_graph.add_edge(\"summarize_performance\", END)\n",
    "\n",
    "workflow = batsman_graph.compile()\n",
    "\n",
    "Image(workflow.get_graph().draw_mermaid_png())"
   ]
  },
  {
   "cell_type": "code",
   "execution_count": 46,
   "id": "f8007d22",
   "metadata": {},
   "outputs": [
    {
     "ename": "InvalidUpdateError",
     "evalue": "At key 'runs': Can receive only one value per step. Use an Annotated key to handle multiple values.\nFor troubleshooting, visit: https://python.langchain.com/docs/troubleshooting/errors/INVALID_CONCURRENT_GRAPH_UPDATE",
     "output_type": "error",
     "traceback": [
      "\u001b[31m---------------------------------------------------------------------------\u001b[39m",
      "\u001b[31mInvalidUpdateError\u001b[39m                        Traceback (most recent call last)",
      "\u001b[36mCell\u001b[39m\u001b[36m \u001b[39m\u001b[32mIn[46]\u001b[39m\u001b[32m, line 2\u001b[39m\n\u001b[32m      1\u001b[39m initial_state = {\u001b[33m\"\u001b[39m\u001b[33mruns\u001b[39m\u001b[33m\"\u001b[39m: \u001b[32m100\u001b[39m, \u001b[33m\"\u001b[39m\u001b[33mballs\u001b[39m\u001b[33m\"\u001b[39m: \u001b[32m85\u001b[39m, \u001b[33m\"\u001b[39m\u001b[33mfours\u001b[39m\u001b[33m\"\u001b[39m: \u001b[32m10\u001b[39m, \u001b[33m\"\u001b[39m\u001b[33msixes\u001b[39m\u001b[33m\"\u001b[39m: \u001b[32m3\u001b[39m}\n\u001b[32m----> \u001b[39m\u001b[32m2\u001b[39m final_state = \u001b[43mworkflow\u001b[49m\u001b[43m.\u001b[49m\u001b[43minvoke\u001b[49m\u001b[43m(\u001b[49m\u001b[43minitial_state\u001b[49m\u001b[43m)\u001b[49m\n\u001b[32m      3\u001b[39m pprint(final_state)\n",
      "\u001b[36mFile \u001b[39m\u001b[32m~/Documents/shaunak-dev/LLM-Engineering/.venv/lib/python3.12/site-packages/langgraph/pregel/main.py:3085\u001b[39m, in \u001b[36mPregel.invoke\u001b[39m\u001b[34m(self, input, config, context, stream_mode, print_mode, output_keys, interrupt_before, interrupt_after, durability, **kwargs)\u001b[39m\n\u001b[32m   3082\u001b[39m chunks: \u001b[38;5;28mlist\u001b[39m[\u001b[38;5;28mdict\u001b[39m[\u001b[38;5;28mstr\u001b[39m, Any] | Any] = []\n\u001b[32m   3083\u001b[39m interrupts: \u001b[38;5;28mlist\u001b[39m[Interrupt] = []\n\u001b[32m-> \u001b[39m\u001b[32m3085\u001b[39m \u001b[43m\u001b[49m\u001b[38;5;28;43;01mfor\u001b[39;49;00m\u001b[43m \u001b[49m\u001b[43mchunk\u001b[49m\u001b[43m \u001b[49m\u001b[38;5;129;43;01min\u001b[39;49;00m\u001b[43m \u001b[49m\u001b[38;5;28;43mself\u001b[39;49m\u001b[43m.\u001b[49m\u001b[43mstream\u001b[49m\u001b[43m(\u001b[49m\n\u001b[32m   3086\u001b[39m \u001b[43m    \u001b[49m\u001b[38;5;28;43minput\u001b[39;49m\u001b[43m,\u001b[49m\n\u001b[32m   3087\u001b[39m \u001b[43m    \u001b[49m\u001b[43mconfig\u001b[49m\u001b[43m,\u001b[49m\n\u001b[32m   3088\u001b[39m \u001b[43m    \u001b[49m\u001b[43mcontext\u001b[49m\u001b[43m=\u001b[49m\u001b[43mcontext\u001b[49m\u001b[43m,\u001b[49m\n\u001b[32m   3089\u001b[39m \u001b[43m    \u001b[49m\u001b[43mstream_mode\u001b[49m\u001b[43m=\u001b[49m\u001b[43m[\u001b[49m\u001b[33;43m\"\u001b[39;49m\u001b[33;43mupdates\u001b[39;49m\u001b[33;43m\"\u001b[39;49m\u001b[43m,\u001b[49m\u001b[43m \u001b[49m\u001b[33;43m\"\u001b[39;49m\u001b[33;43mvalues\u001b[39;49m\u001b[33;43m\"\u001b[39;49m\u001b[43m]\u001b[49m\n\u001b[32m   3090\u001b[39m \u001b[43m    \u001b[49m\u001b[38;5;28;43;01mif\u001b[39;49;00m\u001b[43m \u001b[49m\u001b[43mstream_mode\u001b[49m\u001b[43m \u001b[49m\u001b[43m==\u001b[49m\u001b[43m \u001b[49m\u001b[33;43m\"\u001b[39;49m\u001b[33;43mvalues\u001b[39;49m\u001b[33;43m\"\u001b[39;49m\n\u001b[32m   3091\u001b[39m \u001b[43m    \u001b[49m\u001b[38;5;28;43;01melse\u001b[39;49;00m\u001b[43m \u001b[49m\u001b[43mstream_mode\u001b[49m\u001b[43m,\u001b[49m\n\u001b[32m   3092\u001b[39m \u001b[43m    \u001b[49m\u001b[43mprint_mode\u001b[49m\u001b[43m=\u001b[49m\u001b[43mprint_mode\u001b[49m\u001b[43m,\u001b[49m\n\u001b[32m   3093\u001b[39m \u001b[43m    \u001b[49m\u001b[43moutput_keys\u001b[49m\u001b[43m=\u001b[49m\u001b[43moutput_keys\u001b[49m\u001b[43m,\u001b[49m\n\u001b[32m   3094\u001b[39m \u001b[43m    \u001b[49m\u001b[43minterrupt_before\u001b[49m\u001b[43m=\u001b[49m\u001b[43minterrupt_before\u001b[49m\u001b[43m,\u001b[49m\n\u001b[32m   3095\u001b[39m \u001b[43m    \u001b[49m\u001b[43minterrupt_after\u001b[49m\u001b[43m=\u001b[49m\u001b[43minterrupt_after\u001b[49m\u001b[43m,\u001b[49m\n\u001b[32m   3096\u001b[39m \u001b[43m    \u001b[49m\u001b[43mdurability\u001b[49m\u001b[43m=\u001b[49m\u001b[43mdurability\u001b[49m\u001b[43m,\u001b[49m\n\u001b[32m   3097\u001b[39m \u001b[43m    \u001b[49m\u001b[43m*\u001b[49m\u001b[43m*\u001b[49m\u001b[43mkwargs\u001b[49m\u001b[43m,\u001b[49m\n\u001b[32m   3098\u001b[39m \u001b[43m\u001b[49m\u001b[43m)\u001b[49m\u001b[43m:\u001b[49m\n\u001b[32m   3099\u001b[39m \u001b[43m    \u001b[49m\u001b[38;5;28;43;01mif\u001b[39;49;00m\u001b[43m \u001b[49m\u001b[43mstream_mode\u001b[49m\u001b[43m \u001b[49m\u001b[43m==\u001b[49m\u001b[43m \u001b[49m\u001b[33;43m\"\u001b[39;49m\u001b[33;43mvalues\u001b[39;49m\u001b[33;43m\"\u001b[39;49m\u001b[43m:\u001b[49m\n\u001b[32m   3100\u001b[39m \u001b[43m        \u001b[49m\u001b[38;5;28;43;01mif\u001b[39;49;00m\u001b[43m \u001b[49m\u001b[38;5;28;43mlen\u001b[39;49m\u001b[43m(\u001b[49m\u001b[43mchunk\u001b[49m\u001b[43m)\u001b[49m\u001b[43m \u001b[49m\u001b[43m==\u001b[49m\u001b[43m \u001b[49m\u001b[32;43m2\u001b[39;49m\u001b[43m:\u001b[49m\n",
      "\u001b[36mFile \u001b[39m\u001b[32m~/Documents/shaunak-dev/LLM-Engineering/.venv/lib/python3.12/site-packages/langgraph/pregel/main.py:2684\u001b[39m, in \u001b[36mPregel.stream\u001b[39m\u001b[34m(self, input, config, context, stream_mode, print_mode, output_keys, interrupt_before, interrupt_after, durability, subgraphs, debug, **kwargs)\u001b[39m\n\u001b[32m   2674\u001b[39m \u001b[38;5;28;01mfor\u001b[39;00m _ \u001b[38;5;129;01min\u001b[39;00m runner.tick(\n\u001b[32m   2675\u001b[39m     [t \u001b[38;5;28;01mfor\u001b[39;00m t \u001b[38;5;129;01min\u001b[39;00m loop.tasks.values() \u001b[38;5;28;01mif\u001b[39;00m \u001b[38;5;129;01mnot\u001b[39;00m t.writes],\n\u001b[32m   2676\u001b[39m     timeout=\u001b[38;5;28mself\u001b[39m.step_timeout,\n\u001b[32m   (...)\u001b[39m\u001b[32m   2679\u001b[39m ):\n\u001b[32m   2680\u001b[39m     \u001b[38;5;66;03m# emit output\u001b[39;00m\n\u001b[32m   2681\u001b[39m     \u001b[38;5;28;01myield from\u001b[39;00m _output(\n\u001b[32m   2682\u001b[39m         stream_mode, print_mode, subgraphs, stream.get, queue.Empty\n\u001b[32m   2683\u001b[39m     )\n\u001b[32m-> \u001b[39m\u001b[32m2684\u001b[39m \u001b[43mloop\u001b[49m\u001b[43m.\u001b[49m\u001b[43mafter_tick\u001b[49m\u001b[43m(\u001b[49m\u001b[43m)\u001b[49m\n\u001b[32m   2685\u001b[39m \u001b[38;5;66;03m# wait for checkpoint\u001b[39;00m\n\u001b[32m   2686\u001b[39m \u001b[38;5;28;01mif\u001b[39;00m durability_ == \u001b[33m\"\u001b[39m\u001b[33msync\u001b[39m\u001b[33m\"\u001b[39m:\n",
      "\u001b[36mFile \u001b[39m\u001b[32m~/Documents/shaunak-dev/LLM-Engineering/.venv/lib/python3.12/site-packages/langgraph/pregel/_loop.py:525\u001b[39m, in \u001b[36mPregelLoop.after_tick\u001b[39m\u001b[34m(self)\u001b[39m\n\u001b[32m    523\u001b[39m writes = [w \u001b[38;5;28;01mfor\u001b[39;00m t \u001b[38;5;129;01min\u001b[39;00m \u001b[38;5;28mself\u001b[39m.tasks.values() \u001b[38;5;28;01mfor\u001b[39;00m w \u001b[38;5;129;01min\u001b[39;00m t.writes]\n\u001b[32m    524\u001b[39m \u001b[38;5;66;03m# all tasks have finished\u001b[39;00m\n\u001b[32m--> \u001b[39m\u001b[32m525\u001b[39m \u001b[38;5;28mself\u001b[39m.updated_channels = \u001b[43mapply_writes\u001b[49m\u001b[43m(\u001b[49m\n\u001b[32m    526\u001b[39m \u001b[43m    \u001b[49m\u001b[38;5;28;43mself\u001b[39;49m\u001b[43m.\u001b[49m\u001b[43mcheckpoint\u001b[49m\u001b[43m,\u001b[49m\n\u001b[32m    527\u001b[39m \u001b[43m    \u001b[49m\u001b[38;5;28;43mself\u001b[39;49m\u001b[43m.\u001b[49m\u001b[43mchannels\u001b[49m\u001b[43m,\u001b[49m\n\u001b[32m    528\u001b[39m \u001b[43m    \u001b[49m\u001b[38;5;28;43mself\u001b[39;49m\u001b[43m.\u001b[49m\u001b[43mtasks\u001b[49m\u001b[43m.\u001b[49m\u001b[43mvalues\u001b[49m\u001b[43m(\u001b[49m\u001b[43m)\u001b[49m\u001b[43m,\u001b[49m\n\u001b[32m    529\u001b[39m \u001b[43m    \u001b[49m\u001b[38;5;28;43mself\u001b[39;49m\u001b[43m.\u001b[49m\u001b[43mcheckpointer_get_next_version\u001b[49m\u001b[43m,\u001b[49m\n\u001b[32m    530\u001b[39m \u001b[43m    \u001b[49m\u001b[38;5;28;43mself\u001b[39;49m\u001b[43m.\u001b[49m\u001b[43mtrigger_to_nodes\u001b[49m\u001b[43m,\u001b[49m\n\u001b[32m    531\u001b[39m \u001b[43m\u001b[49m\u001b[43m)\u001b[49m\n\u001b[32m    532\u001b[39m \u001b[38;5;66;03m# produce values output\u001b[39;00m\n\u001b[32m    533\u001b[39m \u001b[38;5;28;01mif\u001b[39;00m \u001b[38;5;129;01mnot\u001b[39;00m \u001b[38;5;28mself\u001b[39m.updated_channels.isdisjoint(\n\u001b[32m    534\u001b[39m     (\u001b[38;5;28mself\u001b[39m.output_keys,)\n\u001b[32m    535\u001b[39m     \u001b[38;5;28;01mif\u001b[39;00m \u001b[38;5;28misinstance\u001b[39m(\u001b[38;5;28mself\u001b[39m.output_keys, \u001b[38;5;28mstr\u001b[39m)\n\u001b[32m    536\u001b[39m     \u001b[38;5;28;01melse\u001b[39;00m \u001b[38;5;28mself\u001b[39m.output_keys\n\u001b[32m    537\u001b[39m ):\n",
      "\u001b[36mFile \u001b[39m\u001b[32m~/Documents/shaunak-dev/LLM-Engineering/.venv/lib/python3.12/site-packages/langgraph/pregel/_algo.py:295\u001b[39m, in \u001b[36mapply_writes\u001b[39m\u001b[34m(checkpoint, channels, tasks, get_next_version, trigger_to_nodes)\u001b[39m\n\u001b[32m    293\u001b[39m \u001b[38;5;28;01mfor\u001b[39;00m chan, vals \u001b[38;5;129;01min\u001b[39;00m pending_writes_by_channel.items():\n\u001b[32m    294\u001b[39m     \u001b[38;5;28;01mif\u001b[39;00m chan \u001b[38;5;129;01min\u001b[39;00m channels:\n\u001b[32m--> \u001b[39m\u001b[32m295\u001b[39m         \u001b[38;5;28;01mif\u001b[39;00m \u001b[43mchannels\u001b[49m\u001b[43m[\u001b[49m\u001b[43mchan\u001b[49m\u001b[43m]\u001b[49m\u001b[43m.\u001b[49m\u001b[43mupdate\u001b[49m\u001b[43m(\u001b[49m\u001b[43mvals\u001b[49m\u001b[43m)\u001b[49m \u001b[38;5;129;01mand\u001b[39;00m next_version \u001b[38;5;129;01mis\u001b[39;00m \u001b[38;5;129;01mnot\u001b[39;00m \u001b[38;5;28;01mNone\u001b[39;00m:\n\u001b[32m    296\u001b[39m             checkpoint[\u001b[33m\"\u001b[39m\u001b[33mchannel_versions\u001b[39m\u001b[33m\"\u001b[39m][chan] = next_version\n\u001b[32m    297\u001b[39m             \u001b[38;5;66;03m# unavailable channels can't trigger tasks, so don't add them\u001b[39;00m\n",
      "\u001b[36mFile \u001b[39m\u001b[32m~/Documents/shaunak-dev/LLM-Engineering/.venv/lib/python3.12/site-packages/langgraph/channels/last_value.py:64\u001b[39m, in \u001b[36mLastValue.update\u001b[39m\u001b[34m(self, values)\u001b[39m\n\u001b[32m     59\u001b[39m \u001b[38;5;28;01mif\u001b[39;00m \u001b[38;5;28mlen\u001b[39m(values) != \u001b[32m1\u001b[39m:\n\u001b[32m     60\u001b[39m     msg = create_error_message(\n\u001b[32m     61\u001b[39m         message=\u001b[33mf\u001b[39m\u001b[33m\"\u001b[39m\u001b[33mAt key \u001b[39m\u001b[33m'\u001b[39m\u001b[38;5;132;01m{\u001b[39;00m\u001b[38;5;28mself\u001b[39m.key\u001b[38;5;132;01m}\u001b[39;00m\u001b[33m'\u001b[39m\u001b[33m: Can receive only one value per step. Use an Annotated key to handle multiple values.\u001b[39m\u001b[33m\"\u001b[39m,\n\u001b[32m     62\u001b[39m         error_code=ErrorCode.INVALID_CONCURRENT_GRAPH_UPDATE,\n\u001b[32m     63\u001b[39m     )\n\u001b[32m---> \u001b[39m\u001b[32m64\u001b[39m     \u001b[38;5;28;01mraise\u001b[39;00m InvalidUpdateError(msg)\n\u001b[32m     66\u001b[39m \u001b[38;5;28mself\u001b[39m.value = values[-\u001b[32m1\u001b[39m]\n\u001b[32m     67\u001b[39m \u001b[38;5;28;01mreturn\u001b[39;00m \u001b[38;5;28;01mTrue\u001b[39;00m\n",
      "\u001b[31mInvalidUpdateError\u001b[39m: At key 'runs': Can receive only one value per step. Use an Annotated key to handle multiple values.\nFor troubleshooting, visit: https://python.langchain.com/docs/troubleshooting/errors/INVALID_CONCURRENT_GRAPH_UPDATE"
     ]
    }
   ],
   "source": [
    "initial_state = {\"runs\": 100, \"balls\": 85, \"fours\": 10, \"sixes\": 3}\n",
    "final_state = workflow.invoke(initial_state)\n",
    "pprint(final_state)"
   ]
  },
  {
   "cell_type": "markdown",
   "id": "1a025601",
   "metadata": {},
   "source": [
    "Why this error?\n",
    "\n",
    "The nodes to calculate sr, boundary_perc and bpb - all are returning the full state - however in parallel workflows this is a problem\n",
    "\n",
    "This is because each step returns the full state as output\n",
    "\n",
    "Since the state contains an attribute runs that is passed to all these steps in parallel - all of them might make concurrent updates to runs and return the full state\n",
    "\n",
    "But the next state will not know which is the correct value of runs to use\n",
    "\n",
    "This will cause an issue \n",
    "\n",
    "The solution is to use __partial updates to the state__"
   ]
  },
  {
   "cell_type": "code",
   "execution_count": 47,
   "id": "0695b61b",
   "metadata": {},
   "outputs": [],
   "source": [
    "def calculate_strike_rate(state: BatsmanState) -> BatsmanState:\n",
    "    strike_rate = state[\"runs\"] / state[\"balls\"] * 100\n",
    "    return {\"strike_rate\": strike_rate} # NOTE: we only send the partial state as the next step and NOT the full state with the runs attribute\n",
    "\n",
    "def calculate_balls_per_boundary(state: BatsmanState) -> BatsmanState:\n",
    "    balls_per_boundary = state[\"balls\"] / (state[\"fours\"] + state[\"sixes\"])\n",
    "    return {\"balls_per_boundary\": balls_per_boundary} # NOTE: we only send the partial state as the next step and NOT the full state with the runs attribute\n",
    "\n",
    "def calculate_boundary_percentage(state: BatsmanState) -> BatsmanState:\n",
    "    boundary_percentage = ((state['fours']*4 + state['sixes']*6) / state['runs']) * 100\n",
    "    return {\"boundary_percentage\": boundary_percentage} # NOTE: we only send the partial state as the next step and NOT the full state with the runs attribute\n",
    "\n",
    "def summarize_performance(state: BatsmanState) -> BatsmanState:\n",
    "    summary = f\"The batsman has scored {state['runs']} runs in {state['balls']} balls \\nwith a strike rate of {state['strike_rate']} and a boundary percentage of {state['boundary_percentage']}\\n ball per boundary: {state['balls_per_boundary']}\"\n",
    "    return {\"summary\": summary} # NOTE: we only send the partial state as the next step and NOT the full state with the runs attribute"
   ]
  },
  {
   "cell_type": "code",
   "execution_count": 48,
   "id": "611b6ebf",
   "metadata": {},
   "outputs": [
    {
     "data": {
      "image/png": "[encoded data removed]",
      "text/plain": [
       "<IPython.core.display.Image object>"
      ]
     },
     "execution_count": 48,
     "metadata": {},
     "output_type": "execute_result"
    }
   ],
   "source": [
    "batsman_graph = StateGraph(BatsmanState)\n",
    "\n",
    "batsman_graph.add_node(\"calculate_strike_rate\", calculate_strike_rate)\n",
    "batsman_graph.add_node(\"calculate_balls_per_boundary\", calculate_balls_per_boundary)\n",
    "batsman_graph.add_node(\"calculate_boundary_percentage\", calculate_boundary_percentage)\n",
    "batsman_graph.add_node(\"summarize_performance\", summarize_performance)\n",
    "\n",
    "# add edges\n",
    "batsman_graph.add_edge(START, \"calculate_strike_rate\")\n",
    "batsman_graph.add_edge(START, \"calculate_balls_per_boundary\")\n",
    "batsman_graph.add_edge(START, \"calculate_boundary_percentage\")\n",
    "\n",
    "batsman_graph.add_edge(\"calculate_strike_rate\", \"summarize_performance\")\n",
    "batsman_graph.add_edge(\"calculate_balls_per_boundary\", \"summarize_performance\")\n",
    "batsman_graph.add_edge(\"calculate_boundary_percentage\", \"summarize_performance\")\n",
    "batsman_graph.add_edge(\"summarize_performance\", END)\n",
    "\n",
    "workflow = batsman_graph.compile()\n",
    "\n",
    "Image(workflow.get_graph().draw_mermaid_png())"
   ]
  },
  {
   "cell_type": "code",
   "execution_count": 49,
   "id": "b1119a94",
   "metadata": {},
   "outputs": [
    {
     "name": "stdout",
     "output_type": "stream",
     "text": [
      "{'balls': 85,\n",
      " 'balls_per_boundary': 6.538461538461538,\n",
      " 'boundary_percentage': 57.99999999999999,\n",
      " 'fours': 10,\n",
      " 'runs': 100,\n",
      " 'sixes': 3,\n",
      " 'strike_rate': 117.64705882352942,\n",
      " 'summary': 'The batsman has scored 100 runs in 85 balls \\n'\n",
      "            'with a strike rate of 117.64705882352942 and a boundary '\n",
      "            'percentage of 57.99999999999999\\n'\n",
      "            ' ball per boundary: 6.538461538461538'}\n"
     ]
    }
   ],
   "source": [
    "initial_state = {\"runs\": 100, \"balls\": 85, \"fours\": 10, \"sixes\": 3}\n",
    "final_state = workflow.invoke(initial_state)\n",
    "pprint(final_state)"
   ]
  },
  {
   "cell_type": "markdown",
   "id": "953ac2a1",
   "metadata": {},
   "source": [
    "### LLM Based Parallel Workflow"
   ]
  },
  {
   "cell_type": "markdown",
   "id": "f5d42964",
   "metadata": {},
   "source": [
    "- UPSC evaluator workflow"
   ]
  },
  {
   "cell_type": "markdown",
   "id": "8a6a6af4",
   "metadata": {},
   "source": [
    "Lets first build the model which follows the structured output component requirement"
   ]
  },
  {
   "cell_type": "code",
   "execution_count": 50,
   "id": "f21a0aac",
   "metadata": {},
   "outputs": [],
   "source": [
    "from pydantic import BaseModel, Field"
   ]
  },
  {
   "cell_type": "code",
   "execution_count": 52,
   "id": "f965026d",
   "metadata": {},
   "outputs": [],
   "source": [
    "essay = \"\"\"India in the Age of AI\n",
    "As the world enters a transformative era defined by artificial intelligence (AI), India stands at a critical juncture — one where it can either emerge as a global leader in AI innovation or risk falling behind in the technology race. The age of AI brings with it immense promise as well as unprecedented challenges, and how India navigates this landscape will shape its socio-economic and geopolitical future.\n",
    "\n",
    "India's strengths in the AI domain are rooted in its vast pool of skilled engineers, a thriving IT industry, and a growing startup ecosystem. With over 5 million STEM graduates annually and a burgeoning base of AI researchers, India possesses the intellectual capital required to build cutting-edge AI systems. Institutions like IITs, IIITs, and IISc have begun fostering AI research, while private players such as TCS, Infosys, and Wipro are integrating AI into their global services. In 2020, the government launched the National AI Strategy (AI for All) with a focus on inclusive growth, aiming to leverage AI in healthcare, agriculture, education, and smart mobility.\n",
    "\n",
    "One of the most promising applications of AI in India lies in agriculture, where predictive analytics can guide farmers on optimal sowing times, weather forecasts, and pest control. In healthcare, AI-powered diagnostics can help address India’s doctor-patient ratio crisis, particularly in rural areas. Educational platforms are increasingly using AI to personalize learning paths, while smart governance tools are helping improve public service delivery and fraud detection.\n",
    "\n",
    "However, the path to AI-led growth is riddled with challenges. Chief among them is the digital divide. While metropolitan cities may embrace AI-driven solutions, rural India continues to struggle with basic internet access and digital literacy. The risk of job displacement due to automation also looms large, especially for low-skilled workers. Without effective skilling and re-skilling programs, AI could exacerbate existing socio-economic inequalities.\n",
    "\n",
    "Another pressing concern is data privacy and ethics. As AI systems rely heavily on vast datasets, ensuring that personal data is used transparently and responsibly becomes vital. India is still shaping its data protection laws, and in the absence of a strong regulatory framework, AI systems may risk misuse or bias.\n",
    "\n",
    "To harness AI responsibly, India must adopt a multi-stakeholder approach involving the government, academia, industry, and civil society. Policies should promote open datasets, encourage responsible innovation, and ensure ethical AI practices. There is also a need for international collaboration, particularly with countries leading in AI research, to gain strategic advantage and ensure interoperability in global systems.\n",
    "\n",
    "India’s demographic dividend, when paired with responsible AI adoption, can unlock massive economic growth, improve governance, and uplift marginalized communities. But this vision will only materialize if AI is seen not merely as a tool for automation, but as an enabler of human-centered development.\n",
    "\n",
    "In conclusion, India in the age of AI is a story in the making — one of opportunity, responsibility, and transformation. The decisions we make today will not just determine India’s AI trajectory, but also its future as an inclusive, equitable, and innovation-driven society.\"\"\""
   ]
  },
  {
   "cell_type": "code",
   "execution_count": 53,
   "id": "c073cca7",
   "metadata": {},
   "outputs": [],
   "source": [
    "class EvaluationSchema(BaseModel):\n",
    "    feedback: str = Field(description=\"Detailed feedback about the essay\")\n",
    "    score: int = Field(description=\"Score out of 100\", ge=0, le=10)\n",
    "\n",
    "structured_model = gpt_oss_20b_model.with_structured_output(EvaluationSchema)"
   ]
  },
  {
   "cell_type": "code",
   "execution_count": 54,
   "id": "7c0fbbdd",
   "metadata": {},
   "outputs": [],
   "source": [
    "template = PromptTemplate(\n",
    "    template=\"\"\"\n",
    "    You are a UPSC evaluator.\n",
    "    Evaluate the following essay and provide a score in the range of 0-10:\n",
    "    {essay}\n",
    "    \"\"\",\n",
    "    input_variables=[\"essay\"]\n",
    ")\n",
    "\n",
    "prompt = template.format(essay=essay)\n",
    "response = structured_model.invoke(prompt)"
   ]
  },
  {
   "cell_type": "code",
   "execution_count": 57,
   "id": "b742f29f",
   "metadata": {},
   "outputs": [
    {
     "data": {
      "text/plain": [
       "8"
      ]
     },
     "execution_count": 57,
     "metadata": {},
     "output_type": "execute_result"
    }
   ],
   "source": [
    "response.score"
   ]
  },
  {
   "cell_type": "code",
   "execution_count": 58,
   "id": "67b4ea25",
   "metadata": {},
   "outputs": [
    {
     "name": "stdout",
     "output_type": "stream",
     "text": [
      "The essay presents a clear and structured overview of India's position in the age of AI, highlighting strengths such as a large STEM talent pool, a growing startup ecosystem, and government initiatives like the National AI Strategy. It effectively identifies key application domains—agriculture, healthcare, education, and governance—illustrating how AI can address sectoral challenges. The discussion of challenges—digital divide, job displacement, data privacy, and ethical concerns—adds depth and demonstrates critical awareness. The concluding remarks tie the narrative back to inclusive, human‑centered development, reinforcing the essay’s thematic coherence.\n",
      "\n",
      "Strengths:\n",
      "1. **Logical structure**: Introduction, strengths, applications, challenges, solutions, conclusion.\n",
      "2. **Use of data and examples**: Mentions 5 million STEM graduates, 2020 AI strategy, specific industry players.\n",
      "3. **Balanced perspective**: Recognises both opportunities and risks.\n",
      "4. **Policy recommendations**: Calls for multi‑stakeholder approach, open datasets, international collaboration.\n",
      "5. **Relevance to UPSC themes**: Addresses socio‑economic, governance, and ethical dimensions.\n",
      "\n",
      "Areas for improvement:\n",
      "1. **Depth of analysis**: While the essay lists challenges, it could delve deeper into mechanisms—e.g., specific skilling programmes, regulatory models, or case studies of successful AI pilots.\n",
      "2. **Evidence and citations**: Inclusion of statistics (e.g., internet penetration rates, AI adoption metrics) would strengthen arguments.\n",
      "3. **Critical evaluation of government initiatives**: A brief assessment of the National AI Strategy’s implementation gaps would add nuance.\n",
      "4. **Global context**: Comparing India’s AI trajectory with other emerging economies could provide a benchmark.\n",
      "5. **Language precision**: Occasional repetition (“AI-led growth”) and vague phrases (“strategic advantage”) could be refined.\n",
      "\n",
      "Overall, the essay demonstrates a solid grasp of the topic and presents a coherent argument. With deeper analytical layers and more concrete evidence, it could reach an even higher standard.\n",
      "\n"
     ]
    }
   ],
   "source": [
    "print(response.feedback) "
   ]
  },
  {
   "cell_type": "code",
   "execution_count": 60,
   "id": "605845f8",
   "metadata": {},
   "outputs": [],
   "source": [
    "import operator"
   ]
  },
  {
   "cell_type": "code",
   "execution_count": 62,
   "id": "3acb8bd1",
   "metadata": {},
   "outputs": [],
   "source": [
    "class UPSCState(TypedDict):\n",
    "    essay: str\n",
    "    language_feedback: str\n",
    "    analysis_feedback: str\n",
    "    clarity_feedback: str\n",
    "    overall_feedback: str\n",
    "    individual_scores: Annotated[list[int], operator.add] # NOTE: see the notes for explanation of this\n",
    "    average_score: float\n",
    "\n",
    "\n",
    "\n",
    "def evaluate_language(state: UPSCState) -> UPSCState:\n",
    "    \n",
    "    template = PromptTemplate(\n",
    "    template=\"\"\"\n",
    "    You are a UPSC evaluator.\n",
    "    Evaluate the following essay for language and provide a score in the range of 0-10:\n",
    "    {essay}\n",
    "    \"\"\",\n",
    "    input_variables=[\"essay\"]\n",
    ")\n",
    "\n",
    "    prompt = template.format(essay=state[\"essay\"])\n",
    "    response = structured_model.invoke(prompt)\n",
    "\n",
    "    return {\"language_feedback\": response.feedback, \"individual_scores\": [response.score]}\n",
    "\n",
    "\n",
    "\n",
    "def evaluate_analysis(state: UPSCState) -> UPSCState:\n",
    "    template = PromptTemplate(\n",
    "    template=\"\"\"\n",
    "    You are a UPSC evaluator.\n",
    "    Evaluate the following essay for the level of analysis and provide a score in the range of 0-10:\n",
    "    {essay}\n",
    "    \"\"\",\n",
    "    input_variables=[\"essay\"]\n",
    ")\n",
    "\n",
    "    prompt = template.format(essay=state[\"essay\"])\n",
    "    response = structured_model.invoke(prompt)\n",
    "\n",
    "    return {\"analysis_feedback\": response.feedback, \"individual_scores\": [response.score]}\n",
    "\n",
    "def evaluate_clarity(state: UPSCState) -> UPSCState:\n",
    "    template = PromptTemplate(\n",
    "    template=\"\"\"\n",
    "    You are a UPSC evaluator.\n",
    "    Evaluate the following essay for the clarity of the thought process and provide a score in the range of 0-10:\n",
    "    {essay}\n",
    "    \"\"\",\n",
    "    input_variables=[\"essay\"]\n",
    ")\n",
    "\n",
    "    prompt = template.format(essay=state[\"essay\"])\n",
    "    response = structured_model.invoke(prompt)\n",
    "\n",
    "    return {\"clarity_feedback\": response.feedback, \"individual_scores\": [response.score]}\n",
    "\n",
    "def evaluate_overall(state: UPSCState) -> UPSCState:\n",
    "    summary_feedback_template = PromptTemplate(\n",
    "    template=\"\"\"\n",
    "    Based on the following feedbacks, provide an overall summary feedback for the essay\n",
    "    Language feedback: {language_feedback}\n",
    "    Analysis feedback: {analysis_feedback}\n",
    "    Clarity feedback: {clarity_feedback}\n",
    "    \"\"\",\n",
    "    input_variables=[\"language_feedback\", \"analysis_feedback\", \"clarity_feedback\"]\n",
    ")\n",
    "\n",
    "    summary_feedback_prompt = summary_feedback_template.format(\n",
    "        language_feedback=state[\"language_feedback\"], \n",
    "        analysis_feedback=state[\"analysis_feedback\"], \n",
    "        clarity_feedback=state[\"clarity_feedback\"])\n",
    "    response = gpt_oss_20b_model.invoke(summary_feedback_prompt)\n",
    "\n",
    "    average_score = sum(state[\"individual_scores\"]) / len(state[\"individual_scores\"])\n",
    "\n",
    "    return {\"overall_feedback\": response.content, \"average_score\": average_score}"
   ]
  },
  {
   "cell_type": "code",
   "execution_count": 64,
   "id": "95691cab",
   "metadata": {},
   "outputs": [
    {
     "data": {
      "text/plain": [
       "<langgraph.graph.state.StateGraph at 0x12ac4dc70>"
      ]
     },
     "execution_count": 64,
     "metadata": {},
     "output_type": "execute_result"
    }
   ],
   "source": [
    "upsc_graph = StateGraph(UPSCState)\n",
    "\n",
    "upsc_graph.add_node(\"evaluate_language\", evaluate_language)\n",
    "upsc_graph.add_node(\"evaluate_analysis\", evaluate_analysis)\n",
    "upsc_graph.add_node(\"evaluate_clarity\", evaluate_clarity)\n",
    "upsc_graph.add_node(\"evaluate_overall\", evaluate_overall)"
   ]
  },
  {
   "cell_type": "code",
   "execution_count": 65,
   "id": "98c21b31",
   "metadata": {},
   "outputs": [],
   "source": [
    "# create edges\n",
    "upsc_graph.add_edge(START, \"evaluate_language\")\n",
    "upsc_graph.add_edge(START, \"evaluate_analysis\")\n",
    "upsc_graph.add_edge(START, \"evaluate_clarity\")\n",
    "\n",
    "upsc_graph.add_edge(\"evaluate_language\", \"evaluate_overall\")\n",
    "upsc_graph.add_edge(\"evaluate_analysis\", \"evaluate_overall\")\n",
    "upsc_graph.add_edge(\"evaluate_clarity\", \"evaluate_overall\")\n",
    "upsc_graph.add_edge(\"evaluate_overall\", END)\n",
    "\n",
    "workflow = upsc_graph.compile()"
   ]
  },
  {
   "cell_type": "code",
   "execution_count": 66,
   "id": "8b6570f7",
   "metadata": {},
   "outputs": [
    {
     "data": {
      "image/png": "[encoded data removed]",
      "text/plain": [
       "<IPython.core.display.Image object>"
      ]
     },
     "execution_count": 66,
     "metadata": {},
     "output_type": "execute_result"
    }
   ],
   "source": [
    "Image(workflow.get_graph().draw_mermaid_png())"
   ]
  },
  {
   "cell_type": "code",
   "execution_count": 70,
   "id": "97d28022",
   "metadata": {},
   "outputs": [
    {
     "data": {
      "text/plain": [
       "{'essay': 'India in the Age of AI\\nAs the world enters a transformative era defined by artificial intelligence (',\n",
       " 'language_feedback': 'The essay is incomplete, ending abruptly after the opening sentence. The language used so far is clear and concise, with a formal tone appropriate for an academic piece. However, the lack of substantive content, development of ideas, and conclusion makes it impossible to assess depth, coherence, or argumentative strength. The structure is currently just a title and a fragment, so the overall quality is very limited. For a full evaluation, more content would be needed. Based on the available text, the essay scores very low on completeness and depth, but the language itself is correct and well‑written.',\n",
       " 'analysis_feedback': 'The essay demonstrates a moderate level of analysis. It introduces the topic of AI in India and outlines potential benefits such as economic growth, healthcare improvements, and educational advancements. However, the discussion remains largely descriptive and lacks depth in exploring the challenges, policy implications, and ethical considerations associated with AI adoption. The structure is clear, but the argument would benefit from more critical evaluation, evidence, and nuanced perspectives. Overall, the analysis is competent but could be strengthened by addressing counterarguments and providing concrete examples or data to support claims.',\n",
       " 'clarity_feedback': 'The essay is incomplete, ending abruptly after the opening line. As a result, there is no substantive content to assess the clarity of the thought process. The introduction hints at a discussion on India’s role in the AI era, but without further development—arguments, evidence, or structure—clarity cannot be judged. A more complete draft would allow evaluation of coherence, logical flow, and depth of analysis. For now, the lack of content severely limits clarity, warranting a low score.',\n",
       " 'overall_feedback': '**Overall Summary Feedback**\\n\\nThe draft is currently only a title and a single opening sentence, so the essay is *incomplete* and lacks any substantive material to evaluate.  \\n\\n| Criterion | What we can see | What is missing | Suggested next steps |\\n|-----------|-----------------|-----------------|----------------------|\\n| **Language** | Clear, concise, formal tone; grammar and style are correct. | No opportunity to judge flow, transitions, or stylistic nuance. | Keep the formal register, but add varied sentence structures and academic diction as the essay expands. |\\n| **Analysis** | Introduces AI in India and lists potential benefits (economic growth, healthcare, education). | Lacks depth: no discussion of challenges, policy implications, ethical concerns, or counter‑arguments; no evidence or data. | Develop each benefit with concrete examples, cite relevant studies or statistics, and critically examine obstacles and ethical questions. |\\n| **Clarity & Coherence** | The opening hints at a discussion on India’s role in the AI era. | No arguments, evidence, or logical progression to assess. | Build a clear thesis, outline main points, and ensure each paragraph follows logically from the previous one. |\\n| **Structure** | Only a title and fragment exist. | No introduction, body, or conclusion. | Draft a full outline: introduction (context + thesis), body (benefits, challenges, policy, ethics), counter‑arguments, and a concise conclusion that ties everything together. |\\n\\n**Overall Assessment**\\n\\n- **Completeness:** Very low – the essay is unfinished.  \\n- **Depth of Analysis:** Moderate in intent but insufficient in execution.  \\n- **Clarity & Coherence:** Cannot be judged; currently impossible to assess.  \\n- **Language Quality:** Good, but needs to be maintained throughout the expanded draft.\\n\\n**Recommendations for Improvement**\\n\\n1. **Expand the Draft** – Write a full introduction that sets the context and states a clear thesis.  \\n2. **Develop Arguments** – For each benefit, provide evidence, discuss potential drawbacks, and explore policy/ethical implications.  \\n3. **Include Counter‑Arguments** – Acknowledge opposing views and rebut them with data or logical reasoning.  \\n4. **Use Concrete Examples** – Cite Indian AI initiatives, statistics, or case studies to ground your claims.  \\n5. **Conclude Effectively** – Summarize key points, restate the thesis in light of the discussion, and suggest future research or policy directions.  \\n6. **Polish Language** – Maintain the formal tone, vary sentence length, and ensure smooth transitions.\\n\\nOnce the essay is fully developed, a more comprehensive evaluation of depth, coherence, and argumentative strength can be provided.',\n",
       " 'individual_scores': [7, 2, 2],\n",
       " 'average_score': 3.6666666666666665}"
      ]
     },
     "execution_count": 70,
     "metadata": {},
     "output_type": "execute_result"
    }
   ],
   "source": [
    "workflow.invoke({\"essay\": essay[:100]})"
   ]
  },
  {
   "cell_type": "code",
   "execution_count": null,
   "id": "0f1dbf93",
   "metadata": {},
   "outputs": [],
   "source": []
  }
 ],
 "metadata": {
  "kernelspec": {
   "display_name": ".venv",
   "language": "python",
   "name": "python3"
  },
  "language_info": {
   "codemirror_mode": {
    "name": "ipython",
    "version": 3
   },
   "file_extension": ".py",
   "mimetype": "text/x-python",
   "name": "python",
   "nbconvert_exporter": "python",
   "pygments_lexer": "ipython3",
   "version": "3.12.11"
  }
 },
 "nbformat": 4,
 "nbformat_minor": 5
}
