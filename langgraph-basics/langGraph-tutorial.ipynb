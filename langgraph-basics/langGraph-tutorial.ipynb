{
 "cells": [
  {
   "cell_type": "markdown",
   "id": "53de297d",
   "metadata": {},
   "source": [
    "## Learning LangGraph "
   ]
  },
  {
   "cell_type": "code",
   "execution_count": 17,
   "id": "cd4a8552",
   "metadata": {},
   "outputs": [],
   "source": [
    "import langchain\n",
    "from langchain_groq import ChatGroq\n",
    "from langchain_core.prompts import ChatPromptTemplate, PromptTemplate\n",
    "from langchain_google_genai import ChatGoogleGenerativeAI\n",
    "from langchain_huggingface import ChatHuggingFace, HuggingFaceEndpoint\n",
    "from langchain_google_genai import GoogleGenerativeAIEmbeddings\n",
    "\n",
    "from langgraph.graph import StateGraph, START, END\n",
    "\n",
    "from dotenv import load_dotenv\n",
    "from pprint import pprint\n",
    "import random\n",
    "from loguru import logger\n",
    "from typing import TypedDict, Annotated\n",
    "from IPython.display import Image"
   ]
  },
  {
   "cell_type": "code",
   "execution_count": 4,
   "id": "d0b2491c",
   "metadata": {},
   "outputs": [],
   "source": [
    "gemini_flash_model = ChatGoogleGenerativeAI(\n",
    "    model=\"gemini-2.5-flash\",\n",
    "    temperature=0,\n",
    "    max_tokens=None,\n",
    "    timeout=None,\n",
    "    max_retries=2,\n",
    "    # other params...\n",
    ")"
   ]
  },
  {
   "cell_type": "code",
   "execution_count": 5,
   "id": "b5a4e5d3",
   "metadata": {},
   "outputs": [],
   "source": [
    "gpt_oss_20b_model = ChatGroq(\n",
    "    model=\"openai/gpt-oss-20b\",\n",
    "    temperature=0,\n",
    "    max_tokens=None,\n",
    "    reasoning_format=\"parsed\",\n",
    "    timeout=None,\n",
    "    max_retries=2,\n",
    ")"
   ]
  },
  {
   "cell_type": "code",
   "execution_count": 6,
   "id": "0900e93d",
   "metadata": {},
   "outputs": [
    {
     "data": {
      "text/plain": [
       "'The capital of India is **New Delhi**.'"
      ]
     },
     "execution_count": 6,
     "metadata": {},
     "output_type": "execute_result"
    }
   ],
   "source": [
    "gemini_flash_model.invoke(\"what is the capital of india\").content"
   ]
  },
  {
   "cell_type": "code",
   "execution_count": 7,
   "id": "3ac3a6e4",
   "metadata": {},
   "outputs": [
    {
     "data": {
      "text/plain": [
       "'The capital of India is **New\\u202fDelhi**.'"
      ]
     },
     "execution_count": 7,
     "metadata": {},
     "output_type": "execute_result"
    }
   ],
   "source": [
    "gpt_oss_20b_model.invoke(\"what is the capital of india\").content"
   ]
  },
  {
   "cell_type": "markdown",
   "id": "9a67bbf3",
   "metadata": {},
   "source": [
    "### First Sequential Workflow\n",
    "\n",
    "- BMI Calculator\n",
    "\n",
    "- Inputs: ht, weight\n",
    "\n",
    "- Output: BMI"
   ]
  },
  {
   "cell_type": "code",
   "execution_count": 11,
   "id": "9085a41b",
   "metadata": {},
   "outputs": [],
   "source": [
    "# define state\n",
    "\n",
    "class BMIState(TypedDict):\n",
    "    weight_kg: float\n",
    "    height_m: float\n",
    "    bmi: float"
   ]
  },
  {
   "cell_type": "code",
   "execution_count": null,
   "id": "a524e183",
   "metadata": {},
   "outputs": [],
   "source": [
    "# define graph\n",
    "\n",
    "bmi_graph = StateGraph(BMIState)\n",
    "\n",
    "# define nodes - nodes are functions that take in a state and return a state\n",
    "\n",
    "def calculate_bmi(state: BMIState) -> BMIState:\n",
    "    bmi = state[\"weight_kg\"] / (state[\"height_m\"] ** 2)\n",
    "    state[\"bmi\"] = round(bmi, 2) # make a partial update to the state\n",
    "    return state\n",
    "\n",
    "bmi_graph.add_node(\"calculate_bmi\", calculate_bmi)\n",
    " \n",
    "# add edges\n",
    "bmi_graph.add_edge(START, \"calculate_bmi\") # START and END are special dummy nodes\n",
    "bmi_graph.add_edge(\"calculate_bmi\", END)\n",
    "\n",
    "# compile graph\n",
    "workflow = bmi_graph.compile()"
   ]
  },
  {
   "cell_type": "code",
   "execution_count": 16,
   "id": "0d234630",
   "metadata": {},
   "outputs": [
    {
     "name": "stdout",
     "output_type": "stream",
     "text": [
      "{'bmi': 22.86, 'height_m': 1.75, 'weight_kg': 70}\n"
     ]
    }
   ],
   "source": [
    "# invoke graph\n",
    "initial_state = {\"weight_kg\": 70, \"height_m\": 1.75}\n",
    "final_state = workflow.invoke(initial_state)\n",
    "pprint(final_state)"
   ]
  },
  {
   "cell_type": "markdown",
   "id": "2f9119bc",
   "metadata": {},
   "source": [
    "Note that the input of the graph is a state and the output of the graph is also a state"
   ]
  },
  {
   "cell_type": "code",
   "execution_count": 18,
   "id": "d7fe1c8a",
   "metadata": {},
   "outputs": [
    {
     "data": {
      "image/png": "[encoded data removed]",
      "text/plain": [
       "<IPython.core.display.Image object>"
      ]
     },
     "execution_count": 18,
     "metadata": {},
     "output_type": "execute_result"
    }
   ],
   "source": [
    "Image(workflow.get_graph().draw_mermaid_png())"
   ]
  },
  {
   "cell_type": "code",
   "execution_count": null,
   "id": "c1cbe748",
   "metadata": {},
   "outputs": [],
   "source": []
  }
 ],
 "metadata": {
  "kernelspec": {
   "display_name": ".venv",
   "language": "python",
   "name": "python3"
  },
  "language_info": {
   "codemirror_mode": {
    "name": "ipython",
    "version": 3
   },
   "file_extension": ".py",
   "mimetype": "text/x-python",
   "name": "python",
   "nbconvert_exporter": "python",
   "pygments_lexer": "ipython3",
   "version": "3.12.11"
  }
 },
 "nbformat": 4,
 "nbformat_minor": 5
}
